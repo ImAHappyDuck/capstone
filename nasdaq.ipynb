{
 "cells": [
  {
   "cell_type": "code",
   "execution_count": 2,
   "metadata": {},
   "outputs": [],
   "source": [
    "import pandas as pd\n",
    "\n",
    "# Read the first 100 rows of the CSV file into a DataFrame\n",
    "nasdaq_external_data = pd.read_csv('nasdaq_exteral_data.csv', nrows=100)\n",
    "\n",
    "# Output the DataFrame to a new CSV file\n",
    "nasdaq_external_data.to_csv('nasdaq_exteral_data_short.csv', index=False)"
   ]
  },
  {
   "cell_type": "code",
   "execution_count": 3,
   "metadata": {},
   "outputs": [
    {
     "name": "stdout",
     "output_type": "stream",
     "text": [
      "    Unnamed: 0                     Date  \\\n",
      "0          0.0  2023-12-16 23:00:00 UTC   \n",
      "1          1.0  2023-12-12 00:00:00 UTC   \n",
      "2          2.0  2023-12-12 00:00:00 UTC   \n",
      "3          3.0  2023-12-07 00:00:00 UTC   \n",
      "4          4.0  2023-12-07 00:00:00 UTC   \n",
      "..         ...                      ...   \n",
      "95        95.0  2023-05-24 00:00:00 UTC   \n",
      "96        96.0  2023-05-24 00:00:00 UTC   \n",
      "97        97.0  2023-05-24 00:00:00 UTC   \n",
      "98        98.0  2023-05-24 00:00:00 UTC   \n",
      "99        99.0  2023-05-24 00:00:00 UTC   \n",
      "\n",
      "                                        Article_title Stock_symbol  \\\n",
      "0   Interesting A Put And Call Options For August ...            A   \n",
      "1   Wolfe Research Initiates Coverage of Agilent T...            A   \n",
      "2   Agilent Technologies Reaches Analyst Target Price            A   \n",
      "3   Agilent (A) Enhances BioTek Cytation C10 With ...            A   \n",
      "4   Pre-Market Most Active for Dec 7, 2023 : SQQQ,...            A   \n",
      "..                                                ...          ...   \n",
      "95  B of A Securities Maintains Agilent Technologi...            A   \n",
      "96  Wells Fargo Maintains Agilent Technologies (A)...            A   \n",
      "97  Baird Maintains Agilent Technologies (A) Outpe...            A   \n",
      "98    Why Agilent Technologies Stock Is Sinking Today            A   \n",
      "99  Credit Suisse Maintains Agilent Technologies (...            A   \n",
      "\n",
      "                                                  Url  Publisher  Author  \\\n",
      "0   https://www.nasdaq.com/articles/interesting-a-...        NaN     NaN   \n",
      "1   https://www.nasdaq.com/articles/wolfe-research...        NaN     NaN   \n",
      "2   https://www.nasdaq.com/articles/agilent-techno...        NaN     NaN   \n",
      "3   https://www.nasdaq.com/articles/agilent-a-enha...        NaN     NaN   \n",
      "4   https://www.nasdaq.com/articles/pre-market-mos...        NaN     NaN   \n",
      "..                                                ...        ...     ...   \n",
      "95  https://www.nasdaq.com/articles/b-of-a-securit...        NaN     NaN   \n",
      "96  https://www.nasdaq.com/articles/wells-fargo-ma...        NaN     NaN   \n",
      "97  https://www.nasdaq.com/articles/baird-maintain...        NaN     NaN   \n",
      "98  https://www.nasdaq.com/articles/why-agilent-te...        NaN     NaN   \n",
      "99  https://www.nasdaq.com/articles/credit-suisse-...        NaN     NaN   \n",
      "\n",
      "                                              Article  \\\n",
      "0   Investors in Agilent Technologies, Inc. (Symbo...   \n",
      "1   Fintel reports that on December 13, 2023, Wolf...   \n",
      "2   In recent trading, shares of Agilent Technolog...   \n",
      "3   Agilent Technologies A is enhancing its BioTek...   \n",
      "4   The NASDAQ 100 Pre-Market Indicator is up 70.2...   \n",
      "..                                                ...   \n",
      "95  Fintel reports that on May 24, 2023, B of A Se...   \n",
      "96  Fintel reports that on May 24, 2023, Wells Far...   \n",
      "97  Fintel reports that on May 24, 2023, Baird mai...   \n",
      "98  What happened\\nShares of Agilent Technologies ...   \n",
      "99  Fintel reports that on May 24, 2023, Credit Su...   \n",
      "\n",
      "                                          Lsa_summary  \\\n",
      "0   Because the $125.00 strike represents an appro...   \n",
      "1   Fintel reports that on December 13, 2023, Wolf...   \n",
      "2   In recent trading, shares of Agilent Technolog...   \n",
      "3   Per a Grand View Research report, the global m...   \n",
      "4   ProShares UltraPro Short QQQ (SQQQ) is -0.15 a...   \n",
      "..                                                ...   \n",
      "95  A payout ratio greater than one means the comp...   \n",
      "96  A payout ratio greater than one means the comp...   \n",
      "97  A payout ratio greater than one means the comp...   \n",
      "98  It posted net income of $302 million, or $1.02...   \n",
      "99  A payout ratio greater than one means the comp...   \n",
      "\n",
      "                                         Luhn_summary  \\\n",
      "0   The current analytical data (including greeks ...   \n",
      "1   T. Rowe Price Investment Management holds 10,1...   \n",
      "2   In recent trading, shares of Agilent Technolog...   \n",
      "3   Notably, Agilent enhanced the BioTek Cytation ...   \n",
      "4   As reported by Zacks, the current mean recomme...   \n",
      "..                                                ...   \n",
      "95  In it's prior filing, the firm reported owning...   \n",
      "96  In it's prior filing, the firm reported owning...   \n",
      "97  In it's prior filing, the firm reported owning...   \n",
      "98  The company expects fiscal Q3 non-GAAP earning...   \n",
      "99  In it's prior filing, the firm reported owning...   \n",
      "\n",
      "                                     Textrank_summary  \\\n",
      "0   Below is a chart showing the trailing twelve m...   \n",
      "1   Agilent Technologies Declares $0.24 Dividend O...   \n",
      "2   When a stock reaches the target an analyst has...   \n",
      "3   Agilent Technologies, Inc. Price and Consensus...   \n",
      "4   The total Pre-Market volume is currently 39,23...   \n",
      "..                                                ...   \n",
      "95  Agilent Technologies Declares $0.22 Dividend O...   \n",
      "96  Agilent Technologies Declares $0.22 Dividend O...   \n",
      "97  Agilent Technologies Declares $0.22 Dividend O...   \n",
      "98  Agilent projects fiscal Q3 revenue of between ...   \n",
      "99  Agilent Technologies Declares $0.22 Dividend O...   \n",
      "\n",
      "                                      Lexrank_summary  \n",
      "0   At Stock Options Channel, our YieldBoost formu...  \n",
      "1   The projected annual revenue for Agilent Techn...  \n",
      "2   When a stock reaches the target an analyst has...  \n",
      "3   Notably, Agilent enhanced the BioTek Cytation ...  \n",
      "4   The NASDAQ 100 Pre-Market Indicator is up 70.2...  \n",
      "..                                                ...  \n",
      "95  The projected annual revenue for Agilent Techn...  \n",
      "96  The projected annual revenue for Agilent Techn...  \n",
      "97  The projected annual revenue for Agilent Techn...  \n",
      "98  The company's non-GAAP earnings were $377 mill...  \n",
      "99  The projected annual revenue for Agilent Techn...  \n",
      "\n",
      "[100 rows x 12 columns]\n"
     ]
    }
   ],
   "source": [
    "df = pd.read_csv('nasdaq_exteral_data_short.csv')\n",
    "print(df)"
   ]
  },
  {
   "cell_type": "code",
   "execution_count": 4,
   "metadata": {},
   "outputs": [
    {
     "name": "stdout",
     "output_type": "stream",
     "text": [
      "Index(['Unnamed: 0', 'Date', 'Article_title', 'Stock_symbol', 'Url',\n",
      "       'Publisher', 'Author', 'Article', 'Lsa_summary', 'Luhn_summary',\n",
      "       'Textrank_summary', 'Lexrank_summary'],\n",
      "      dtype='object')\n"
     ]
    }
   ],
   "source": [
    "print(df.columns)"
   ]
  }
 ],
 "metadata": {
  "kernelspec": {
   "display_name": "Python 3",
   "language": "python",
   "name": "python3"
  },
  "language_info": {
   "codemirror_mode": {
    "name": "ipython",
    "version": 3
   },
   "file_extension": ".py",
   "mimetype": "text/x-python",
   "name": "python",
   "nbconvert_exporter": "python",
   "pygments_lexer": "ipython3",
   "version": "3.12.3"
  }
 },
 "nbformat": 4,
 "nbformat_minor": 2
}
