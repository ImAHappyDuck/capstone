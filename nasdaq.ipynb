{
 "cells": [
  {
   "cell_type": "code",
   "execution_count": null,
   "metadata": {},
   "outputs": [],
   "source": [
    "import pandas as pd\n",
    "\n",
    "nasdaq_external_data = pd.read_csv('nasdaq_exteral_data.csv', nrows=1000)\n",
    "\n",
    "nasdaq_external_data.to_csv('nasdaq_exteral_data_short.csv', index=False)"
   ]
  },
  {
   "cell_type": "code",
   "execution_count": 6,
   "metadata": {},
   "outputs": [
    {
     "name": "stdout",
     "output_type": "stream",
     "text": [
      "     Unnamed: 0.1  Unnamed: 0                     Date  \\\n",
      "0               0         0.0  2023-12-16 23:00:00 UTC   \n",
      "1               1         1.0  2023-12-12 00:00:00 UTC   \n",
      "2               2         2.0  2023-12-12 00:00:00 UTC   \n",
      "3               3         3.0  2023-12-07 00:00:00 UTC   \n",
      "4               4         4.0  2023-12-07 00:00:00 UTC   \n",
      "..            ...         ...                      ...   \n",
      "995           995       995.0  2021-08-23 00:00:00 UTC   \n",
      "996           996       996.0  2021-08-22 00:00:00 UTC   \n",
      "997           997       997.0  2021-08-20 00:00:00 UTC   \n",
      "998           998       998.0  2021-08-20 00:00:00 UTC   \n",
      "999           999       999.0  2021-08-20 00:00:00 UTC   \n",
      "\n",
      "                                         Article_title Stock_symbol  \\\n",
      "0    Interesting A Put And Call Options For August ...            A   \n",
      "1    Wolfe Research Initiates Coverage of Agilent T...            A   \n",
      "2    Agilent Technologies Reaches Analyst Target Price            A   \n",
      "3    Agilent (A) Enhances BioTek Cytation C10 With ...            A   \n",
      "4    Pre-Market Most Active for Dec 7, 2023 : SQQQ,...            A   \n",
      "..                                                 ...          ...   \n",
      "995  One global aluminium producer seeks Q4 premium...           AA   \n",
      "996         What’s Behind The 80% Jump In Alcoa Stock?           AA   \n",
      "997  White House withholds support of Democratic ca...           AA   \n",
      "998  White House withholds support of Democratic ca...           AA   \n",
      "999  Why Shares of Major Metals and Mining Stocks M...           AA   \n",
      "\n",
      "                                                   Url  Publisher  Author  \\\n",
      "0    https://www.nasdaq.com/articles/interesting-a-...        NaN     NaN   \n",
      "1    https://www.nasdaq.com/articles/wolfe-research...        NaN     NaN   \n",
      "2    https://www.nasdaq.com/articles/agilent-techno...        NaN     NaN   \n",
      "3    https://www.nasdaq.com/articles/agilent-a-enha...        NaN     NaN   \n",
      "4    https://www.nasdaq.com/articles/pre-market-mos...        NaN     NaN   \n",
      "..                                                 ...        ...     ...   \n",
      "995  https://www.nasdaq.com/articles/one-global-alu...        NaN     NaN   \n",
      "996  https://www.nasdaq.com/articles/whats-behind-t...        NaN     NaN   \n",
      "997  https://www.nasdaq.com/articles/white-house-wi...        NaN     NaN   \n",
      "998  https://www.nasdaq.com/articles/white-house-wi...        NaN     NaN   \n",
      "999  https://www.nasdaq.com/articles/why-shares-of-...        NaN     NaN   \n",
      "\n",
      "                                               Article  \\\n",
      "0    Investors in Agilent Technologies, Inc. (Symbo...   \n",
      "1    Fintel reports that on December 13, 2023, Wolf...   \n",
      "2    In recent trading, shares of Agilent Technolog...   \n",
      "3    Agilent Technologies A is enhancing its BioTek...   \n",
      "4    The NASDAQ 100 Pre-Market Indicator is up 70.2...   \n",
      "..                                                 ...   \n",
      "995  TOKYO, Aug 23 (Reuters) - One global aluminium...   \n",
      "996  Alcoa stock (NYSE: AA) has seen a large rise o...   \n",
      "997  By Jarrett Renshaw\\nAug 20 (Reuters) - The Whi...   \n",
      "998  By Jarrett Renshaw\\nAug 20 (Reuters) - The Whi...   \n",
      "999  What happened\\nIt's turning out to be a nerve-...   \n",
      "\n",
      "                                           Lsa_summary  \\\n",
      "0    Because the $125.00 strike represents an appro...   \n",
      "1    Fintel reports that on December 13, 2023, Wolf...   \n",
      "2    In recent trading, shares of Agilent Technolog...   \n",
      "3    Per a Grand View Research report, the global m...   \n",
      "4    ProShares UltraPro Short QQQ (SQQQ) is -0.15 a...   \n",
      "..                                                 ...   \n",
      "995  TOKYO, Aug 23 (Reuters) - One global aluminium...   \n",
      "996  Alcoa stock (NYSE: AA) has seen a large rise o...   \n",
      "997  The tax could hit companies like Rio Tinto RIO...   \n",
      "998  The United States is the closest it has ever b...   \n",
      "999  Alcoa (NYSE: AA): Down 17%. Strong demand from...   \n",
      "\n",
      "                                          Luhn_summary  \\\n",
      "0    The current analytical data (including greeks ...   \n",
      "1    T. Rowe Price Investment Management holds 10,1...   \n",
      "2    In recent trading, shares of Agilent Technolog...   \n",
      "3    Notably, Agilent enhanced the BioTek Cytation ...   \n",
      "4    As reported by Zacks, the current mean recomme...   \n",
      "..                                                 ...   \n",
      "995  TOKYO, Aug 23 (Reuters) - One global aluminium...   \n",
      "996  You can test the answer and many other combina...   \n",
      "997  The tax could hit companies like Rio Tinto RIO...   \n",
      "998  By Jarrett Renshaw Aug 20 (Reuters) - The Whit...   \n",
      "999  Alcoa (NYSE: AA): Down 17%. Alcoa Aluminum BHP...   \n",
      "\n",
      "                                      Textrank_summary  \\\n",
      "0    Below is a chart showing the trailing twelve m...   \n",
      "1    Agilent Technologies Declares $0.24 Dividend O...   \n",
      "2    When a stock reaches the target an analyst has...   \n",
      "3    Agilent Technologies, Inc. Price and Consensus...   \n",
      "4    The total Pre-Market volume is currently 39,23...   \n",
      "..                                                 ...   \n",
      "995  TOKYO, Aug 23 (Reuters) - One global aluminium...   \n",
      "996  Alcoa stock (NYSE: AA) has seen a large rise o...   \n",
      "997  The tax could hit companies like Rio Tinto RIO...   \n",
      "998  By Jarrett Renshaw Aug 20 (Reuters) - The Whit...   \n",
      "999  Alcoa (NYSE: AA): Down 17%. Alcoa Aluminum BHP...   \n",
      "\n",
      "                                       Lexrank_summary  \n",
      "0    At Stock Options Channel, our YieldBoost formu...  \n",
      "1    The projected annual revenue for Agilent Techn...  \n",
      "2    When a stock reaches the target an analyst has...  \n",
      "3    Notably, Agilent enhanced the BioTek Cytation ...  \n",
      "4    The NASDAQ 100 Pre-Market Indicator is up 70.2...  \n",
      "..                                                 ...  \n",
      "995  TOKYO, Aug 23 (Reuters) - One global aluminium...  \n",
      "996  For AA stock, the returns over the next N days...  \n",
      "997  The tax could hit companies like Rio Tinto RIO...  \n",
      "998  By Jarrett Renshaw Aug 20 (Reuters) - The Whit...  \n",
      "999  Alcoa (NYSE: AA): Down 17%. So what The meteor...  \n",
      "\n",
      "[1000 rows x 13 columns]\n"
     ]
    }
   ],
   "source": [
    "df = pd.read_csv('nasdaq_exteral_data_short.csv')\n",
    "print(df)"
   ]
  },
  {
   "cell_type": "code",
   "execution_count": 4,
   "metadata": {},
   "outputs": [
    {
     "name": "stdout",
     "output_type": "stream",
     "text": [
      "Index(['Unnamed: 0', 'Date', 'Article_title', 'Stock_symbol', 'Url',\n",
      "       'Publisher', 'Author', 'Article', 'Lsa_summary', 'Luhn_summary',\n",
      "       'Textrank_summary', 'Lexrank_summary'],\n",
      "      dtype='object')\n"
     ]
    }
   ],
   "source": [
    "print(df.columns)"
   ]
  }
 ],
 "metadata": {
  "kernelspec": {
   "display_name": "Python 3",
   "language": "python",
   "name": "python3"
  },
  "language_info": {
   "codemirror_mode": {
    "name": "ipython",
    "version": 3
   },
   "file_extension": ".py",
   "mimetype": "text/x-python",
   "name": "python",
   "nbconvert_exporter": "python",
   "pygments_lexer": "ipython3",
   "version": "3.12.3"
  }
 },
 "nbformat": 4,
 "nbformat_minor": 2
}
